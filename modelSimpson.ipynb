{
 "cells": [
  {
   "cell_type": "code",
   "execution_count": 1,
   "metadata": {},
   "outputs": [
    {
     "ename": "ModuleNotFoundError",
     "evalue": "No module named 'torch'",
     "output_type": "error",
     "traceback": [
      "\u001b[0;31m---------------------------------------------------------------------------\u001b[0m",
      "\u001b[0;31mModuleNotFoundError\u001b[0m                       Traceback (most recent call last)",
      "Cell \u001b[0;32mIn[1], line 2\u001b[0m\n\u001b[1;32m      1\u001b[0m \u001b[38;5;28;01mimport\u001b[39;00m \u001b[38;5;21;01mos\u001b[39;00m\n\u001b[0;32m----> 2\u001b[0m \u001b[38;5;28;01mimport\u001b[39;00m \u001b[38;5;21;01mtorch\u001b[39;00m\n\u001b[1;32m      3\u001b[0m \u001b[38;5;28;01mimport\u001b[39;00m \u001b[38;5;21;01mtorch\u001b[39;00m\u001b[38;5;21;01m.\u001b[39;00m\u001b[38;5;21;01mnn\u001b[39;00m \u001b[38;5;28;01mas\u001b[39;00m \u001b[38;5;21;01mnn\u001b[39;00m\n\u001b[1;32m      4\u001b[0m \u001b[38;5;28;01mimport\u001b[39;00m \u001b[38;5;21;01mtorch\u001b[39;00m\u001b[38;5;21;01m.\u001b[39;00m\u001b[38;5;21;01moptim\u001b[39;00m \u001b[38;5;28;01mas\u001b[39;00m \u001b[38;5;21;01moptim\u001b[39;00m\n",
      "\u001b[0;31mModuleNotFoundError\u001b[0m: No module named 'torch'"
     ]
    }
   ],
   "source": [
    "import os\n",
    "import torch\n",
    "import torch.nn as nn\n",
    "import torch.optim as optim\n",
    "import random\n",
    "import time\n",
    "import numpy as np\n",
    "import matplotlib.pyplot as plt\n",
    "import captum\n",
    "from PIL import Image"
   ]
  },
  {
   "cell_type": "code",
   "execution_count": 2,
   "metadata": {},
   "outputs": [],
   "source": [
    "CELLTYPES = {\n",
    "    \"basophil\" : 0,\n",
    "    \"eosinophil\" : 1,\n",
    "    \"erythroblast\" : 2,\n",
    "    \"ig\" : 3,\n",
    "    \"lymphocyte\" : 4,\n",
    "    \"monocyte\" : 5,\n",
    "    \"neutrophil\" : 6,\n",
    "    \"platelet\" : 7,\n",
    "}"
   ]
  },
  {
   "cell_type": "markdown",
   "metadata": {},
   "source": [
    "Converts images into tensors -> compresses them in 32x32 pixel images -> include 4 rotations of each images."
   ]
  },
  {
   "cell_type": "code",
   "execution_count": 4,
   "metadata": {},
   "outputs": [
    {
     "ename": "FileNotFoundError",
     "evalue": "[Errno 2] No such file or directory: '/Users/simonboudara/Cours_info/UE22/data/images/basophil'",
     "output_type": "error",
     "traceback": [
      "\u001b[0;31m---------------------------------------------------------------------------\u001b[0m",
      "\u001b[0;31mFileNotFoundError\u001b[0m                         Traceback (most recent call last)",
      "Cell \u001b[0;32mIn[4], line 8\u001b[0m\n\u001b[1;32m      5\u001b[0m folder_path \u001b[38;5;241m=\u001b[39m os\u001b[38;5;241m.\u001b[39mpath\u001b[38;5;241m.\u001b[39mjoin(os\u001b[38;5;241m.\u001b[39mgetcwd() \u001b[38;5;241m+\u001b[39m \u001b[38;5;124m\"\u001b[39m\u001b[38;5;124m/data/images\u001b[39m\u001b[38;5;124m\"\u001b[39m, key)\n\u001b[1;32m      7\u001b[0m \u001b[38;5;66;03m# go thorugh jpg images in the folder\u001b[39;00m\n\u001b[0;32m----> 8\u001b[0m \u001b[38;5;28;01mfor\u001b[39;00m image \u001b[38;5;129;01min\u001b[39;00m os\u001b[38;5;241m.\u001b[39mlistdir(folder_path):\n\u001b[1;32m      9\u001b[0m     image_path \u001b[38;5;241m=\u001b[39m os\u001b[38;5;241m.\u001b[39mpath\u001b[38;5;241m.\u001b[39mjoin(folder_path, image)\n\u001b[1;32m     10\u001b[0m     image \u001b[38;5;241m=\u001b[39m Image\u001b[38;5;241m.\u001b[39mopen(image_path)\n",
      "\u001b[0;31mFileNotFoundError\u001b[0m: [Errno 2] No such file or directory: '/Users/simonboudara/Cours_info/UE22/data/images/basophil'"
     ]
    }
   ],
   "source": [
    "image_tensors = []\n",
    "target_tensors = []\n",
    "\n",
    "for key, value in CELLTYPES.items():\n",
    "    folder_path = os.path.join(os.getcwd() + \"/data/images\", key)\n",
    "\n",
    "    # go thorugh jpg images in the folder\n",
    "    for image in os.listdir(folder_path):\n",
    "        image_path = os.path.join(folder_path, image)\n",
    "        image = Image.open(image_path)\n",
    "        image = image.resize((32, 32))\n",
    "        image_tensor = torch.tensor(np.array(image))\n",
    "        for angle in range(0, 360, 90):\n",
    "            rotated_image = torch.rot90(image_tensor, 1, [0, 1])\n",
    "            # append the image as channel, 32, 32\n",
    "            image_tensors.append(rotated_image.permute(2, 0, 1))\n",
    "            target_tensors.append(value)"
   ]
  },
  {
   "cell_type": "markdown",
   "metadata": {},
   "source": [
    "Separate data into training, testing and validation sets."
   ]
  },
  {
   "cell_type": "code",
   "execution_count": 84,
   "metadata": {},
   "outputs": [],
   "source": [
    "data = list(zip(image_tensors, target_tensors))\n",
    "random.shuffle(data)\n",
    "image_tensors, target_tensors = zip(*data)\n",
    "\n",
    "train_data = image_tensors[:int(len(image_tensors) * 0.8)]\n",
    "train_targets = target_tensors[:int(len(target_tensors) * 0.8)]\n",
    "\n",
    "test_data = image_tensors[int(len(image_tensors) * 0.8):int(len(image_tensors) * 0.9)]\n",
    "test_targets = target_tensors[int(len(target_tensors) * 0.8):int(len(target_tensors) * 0.9)]\n",
    "\n",
    "val_data = image_tensors[int(len(image_tensors) * 0.9):]\n",
    "val_targets = target_tensors[int(len(target_tensors) * 0.9):]\n",
    "\n",
    "train_data = torch.stack(train_data).float()\n",
    "train_targets = torch.tensor(train_targets).long()\n",
    "\n",
    "test_data = torch.stack(test_data).float()\n",
    "test_targets = torch.tensor(test_targets).long()\n",
    "\n",
    "val_data = torch.stack(val_data).float()\n",
    "val_targets = torch.tensor(val_targets).long()\n"
   ]
  },
  {
   "cell_type": "code",
   "execution_count": 85,
   "metadata": {},
   "outputs": [],
   "source": [
    "class CNN(nn.Module):\n",
    "\n",
    "    def __init__(self, output_size):\n",
    "\n",
    "        super(CNN, self).__init__()\n",
    "\n",
    "        self.conv = nn.Sequential(\n",
    "            # block 1:         3 x 32 x 32 --> 64 x 16 x 16        \n",
    "            nn.Conv2d(3,   64,  kernel_size=3, padding=1 ),\n",
    "            nn.ReLU(),\n",
    "            nn.Conv2d(64,  64,  kernel_size=3, padding=1 ),\n",
    "            nn.ReLU(),\n",
    "            nn.MaxPool2d(2,2),\n",
    "\n",
    "            # block 2:         64 x 16 x 16 --> 128 x 8 x 8\n",
    "            nn.Conv2d(64,  128, kernel_size=3, padding=1 ),\n",
    "            nn.ReLU(),\n",
    "            nn.Conv2d(128, 128, kernel_size=3, padding=1 ),\n",
    "            nn.ReLU(),\n",
    "            nn.MaxPool2d(2,2),\n",
    "\n",
    "            # block 3:         128 x 8 x 8 --> 256 x 4 x 4        \n",
    "            nn.Conv2d(128, 256, kernel_size=3, padding=1 ),\n",
    "            nn.ReLU(),\n",
    "            nn.Conv2d(256, 256, kernel_size=3, padding=1 ),\n",
    "            nn.ReLU(),\n",
    "            nn.MaxPool2d(2,2),\n",
    "            \n",
    "            #block 4:          256 x 4 x 4 --> 512 x 2 x 2\n",
    "            nn.Conv2d(256, 512, kernel_size=3, padding=1 ),\n",
    "            nn.ReLU(),\n",
    "            nn.MaxPool2d(2,2)\n",
    "        )\n",
    "\n",
    "        self.linear = nn.Sequential(\n",
    "            # linear layers:   512 x 2 x 2 --> 2048 --> 4096 --> 4096 --> 10\n",
    "            nn.Linear(2048, 4096),\n",
    "            nn.Linear(4096, 4096),\n",
    "            nn.Linear(4096, output_size)\n",
    "        )\n",
    "\n",
    "\n",
    "    def forward(self, x):\n",
    "\n",
    "        x = self.conv(x)\n",
    "        x = x.view(-1, 2048)\n",
    "        x = self.linear(x) \n",
    "        \n",
    "        return x"
   ]
  },
  {
   "cell_type": "code",
   "execution_count": 86,
   "metadata": {},
   "outputs": [],
   "source": [
    "CNN_model = CNN(CELLTYPES.__len__())"
   ]
  },
  {
   "cell_type": "code",
   "execution_count": 87,
   "metadata": {},
   "outputs": [],
   "source": [
    "CNN_criterion = nn.CrossEntropyLoss()\n",
    "CNN_lr = 0.001 \n",
    "batch_size = 50"
   ]
  },
  {
   "cell_type": "code",
   "execution_count": 88,
   "metadata": {},
   "outputs": [],
   "source": [
    "def get_error(scores, target):\n",
    "    batch_size = scores.size(0)\n",
    "    predicted_targets = scores.argmax(dim=1)\n",
    "    indicator = (predicted_targets == target)\n",
    "    num_matches = indicator.sum()\n",
    "    \n",
    "    return 1-num_matches.float() / batch_size"
   ]
  },
  {
   "cell_type": "markdown",
   "metadata": {},
   "source": [
    "Evaluation function to test model on the fly so that we can know if we are underfitting/overfitting to minimise time wastage."
   ]
  },
  {
   "cell_type": "code",
   "execution_count": 95,
   "metadata": {},
   "outputs": [],
   "source": [
    "num_test_data = len(test_data)\n",
    "mean = test_data.mean()\n",
    "std = test_data.std()\n",
    "\n",
    "def eval_on_test_set(net, labels):\n",
    "\n",
    "    running_error = 0\n",
    "    num_batches = 0\n",
    "\n",
    "    for i in range(0, num_test_data, batch_size):\n",
    "\n",
    "        minibatch_data =  test_data[i:i+batch_size]\n",
    "        minibatch_label = labels[i:i+batch_size]\n",
    "\n",
    "        inputs = (minibatch_data - mean)/std\n",
    "\n",
    "        scores = net(inputs) \n",
    "\n",
    "        error = get_error(scores , minibatch_label)\n",
    "\n",
    "        running_error += error.item()\n",
    "\n",
    "        num_batches += 1\n",
    "\n",
    "    total_error = running_error/num_batches\n",
    "\n",
    "    print('test error=', total_error*100, 'percent')"
   ]
  },
  {
   "cell_type": "code",
   "execution_count": 96,
   "metadata": {},
   "outputs": [],
   "source": [
    "num_val_data = len(val_data)\n",
    "mean = val_data.mean()\n",
    "std = val_data.std()\n",
    "\n",
    "def eval_on_val_set(net, labels):\n",
    "    running_error = 0\n",
    "    num_batches = 0\n",
    "\n",
    "    for i in range(0, num_val_data, batch_size):\n",
    "\n",
    "        minibatch_data =  val_data[i:i+batch_size]\n",
    "        minibatch_label = labels[i:i+batch_size]\n",
    "\n",
    "        inputs = (minibatch_data - mean)/std\n",
    "\n",
    "        scores = net(inputs) \n",
    "\n",
    "        error = get_error(scores , minibatch_label)\n",
    "\n",
    "        running_error += error.item()\n",
    "\n",
    "        num_batches += 1\n",
    "\n",
    "    total_error = running_error/num_batches\n",
    "\n",
    "    print('validation error=', total_error*100, 'percent')"
   ]
  },
  {
   "cell_type": "code",
   "execution_count": 93,
   "metadata": {},
   "outputs": [
    {
     "name": "stdout",
     "output_type": "stream",
     "text": [
      "epoch= 0 \t total time= 3.2178667187690735 min \t lr= 0.001 \t loss= 0.48680905637131433 \t error= 18.806056698707685 percent\n",
      "test error= 17.073190734334233 percent\n",
      " \n",
      "epoch= 1 \t total time= 7.194562796751658 min \t lr= 0.001 \t loss= 0.4317232664317301 \t error= 15.880798286498955 percent\n",
      "test error= 12.366542154855102 percent\n",
      " \n",
      "epoch= 2 \t total time= 10.876904300848643 min \t lr= 0.001 \t loss= 0.33541037315783434 \t error= 12.200433151907028 percent\n",
      "test error= 9.49575883628678 percent\n",
      " \n",
      "epoch= 3 \t total time= 14.329451882839203 min \t lr= 0.001 \t loss= 0.3096294865250315 \t error= 10.355684120361119 percent\n",
      "test error= 11.286250344158088 percent\n",
      " \n",
      "epoch= 4 \t total time= 18.12865208387375 min \t lr= 0.001 \t loss= 0.2754889887217517 \t error= 9.23816428336923 percent\n",
      "test error= 8.27816159185702 percent\n",
      " \n"
     ]
    }
   ],
   "source": [
    "# Modify training data size and epoch count on need, minimised to speed up training\n",
    "\n",
    "num_train_data = len(train_data)//5\n",
    "start = time.time()\n",
    "mean = train_data.mean()\n",
    "std = train_data.std()\n",
    "\n",
    "for epoch in range(5):\n",
    "    \n",
    "    # create a new optimizer at the beginning of each epoch; give the current learning rate.   \n",
    "    brand_Adam_CNN_optimizer = torch.optim.Adam(CNN_model.parameters(), lr=CNN_lr)\n",
    "        \n",
    "    # set the running quatities to zero at the beginning of the epoch\n",
    "    running_loss = 0\n",
    "    running_error = 0\n",
    "    num_batches = 0\n",
    "    \n",
    "    # set the order in which to visit the image from the training set\n",
    "    shuffled_indices = torch.randperm(num_train_data)\n",
    " \n",
    "    for count in range(0, num_train_data, batch_size):\n",
    "    \n",
    "        # Set the gradients to zeros\n",
    "        brand_Adam_CNN_optimizer.zero_grad()\n",
    "        \n",
    "        # Create a minibatch       \n",
    "        indices = shuffled_indices[count:count+batch_size]\n",
    "        minibatch_data = train_data[indices]\n",
    "        minibatch_target = train_targets[indices] # difference between brand & type training\n",
    "        \n",
    "        # Normalize the minibatch\n",
    "        inputs = (minibatch_data - mean)/std\n",
    "        \n",
    "        # Tell Pytorch to start tracking all operations that will be done on \"inputs\"\n",
    "        inputs.requires_grad_()\n",
    "\n",
    "        # Forward the minibatch through the net \n",
    "        scores = CNN_model(inputs) \n",
    "\n",
    "        # Compute the average of the losses of the data points in the minibatch\n",
    "        brand_loss = CNN_criterion(scores, minibatch_target) \n",
    "        \n",
    "        # Backward pass to compute dL/dU, dL/dV and dL/dW\n",
    "        brand_loss.backward()\n",
    "\n",
    "        # Do one step of the optimizer\n",
    "        brand_Adam_CNN_optimizer.step()\n",
    "        \n",
    "        # START COMPUTING STATS\n",
    "        \n",
    "        # Add the loss of this batch to the running loss\n",
    "        running_loss += brand_loss.detach().item()\n",
    "        \n",
    "        # Compute the error made on this batch and add it to the running error       \n",
    "        brand_error = get_error(scores.detach(), minibatch_target)\n",
    "        running_error += brand_error.item()\n",
    "\n",
    "        num_batches += 1        \n",
    "    \n",
    "    \n",
    "    # compute stats for the full training set\n",
    "    total_brand_loss = running_loss/num_batches\n",
    "    total_brand_error = running_error/num_batches\n",
    "    elapsed = (time.time()-start)/60\n",
    "\n",
    "    print('epoch=', epoch + 1, '\\t total time=', elapsed, 'min', '\\t lr=', CNN_lr, '\\t loss=', total_brand_loss, '\\t error=', total_brand_error*100, 'percent')\n",
    "\n",
    "    eval_on_test_set(CNN_model, test_targets) \n",
    "    print(' ')\n",
    "    \n",
    "# Save the model\n",
    "torch.save(CNN_model.state_dict(), 'CNN_model.pth')"
   ]
  },
  {
   "cell_type": "code",
   "execution_count": null,
   "metadata": {},
   "outputs": [],
   "source": [
    "# Load the model\n",
    "CNN_model = CNN(\"CNN_model.pth\")"
   ]
  },
  {
   "cell_type": "code",
   "execution_count": 97,
   "metadata": {},
   "outputs": [
    {
     "name": "stdout",
     "output_type": "stream",
     "text": [
      "test error= 8.27816159185702 percent\n",
      "validation error= 8.848294071907544 percent\n"
     ]
    }
   ],
   "source": [
    "# Evaluate the model on the test set\n",
    "eval_on_test_set(CNN_model, test_targets)\n",
    "\n",
    "# Evaluate the model on the validation set\n",
    "eval_on_val_set(CNN_model, val_targets)"
   ]
  },
  {
   "cell_type": "code",
   "execution_count": 109,
   "metadata": {},
   "outputs": [],
   "source": [
    "def show_probability(probabilities):\n",
    "    fig, ax = plt.subplots()\n",
    "    ax.bar(CELLTYPES.keys(), probabilities)\n",
    "    ax.set_ylabel('Probability')\n",
    "    ax.set_xlabel('Cell Type')\n",
    "    plt.xticks(rotation=45)\n",
    "    plt.show()"
   ]
  },
  {
   "cell_type": "code",
   "execution_count": 110,
   "metadata": {},
   "outputs": [
    {
     "data": {
      "image/png": "[encoded data removed]",
      "text/plain": [
       "<Figure size 432x288 with 1 Axes>"
      ]
     },
     "metadata": {
      "needs_background": "light"
     },
     "output_type": "display_data"
    },
    {
     "data": {
      "image/png": "[encoded data removed]",
      "text/plain": [
       "<Figure size 432x288 with 1 Axes>"
      ]
     },
     "metadata": {
      "needs_background": "light"
     },
     "output_type": "display_data"
    },
    {
     "name": "stdout",
     "output_type": "stream",
     "text": [
      "Predicted:  eosinophil\n",
      "Actual:  eosinophil\n"
     ]
    }
   ],
   "source": [
    "image_index = random.randint(0, len(test_data))\n",
    "image = test_data[image_index]\n",
    "\n",
    "# convert image to displayable format\n",
    "display_image = image.permute(1, 2, 0).numpy().astype(np.uint8)\n",
    "plt.imshow(display_image)\n",
    "\n",
    "image = (image - mean) / std\n",
    "image = image.view(1, 3, 32, 32)\n",
    "\n",
    "scores = CNN_model(image)\n",
    "probabilities = nn.functional.softmax(scores, dim=1).detach().numpy()[0]\n",
    "show_probability(probabilities)\n",
    "\n",
    "print(\"Predicted: \", list(CELLTYPES.keys())[probabilities.argmax()])\n",
    "print(\"Actual: \", list(CELLTYPES.keys())[test_targets[image_index]])"
   ]
  },
  {
   "cell_type": "code",
   "execution_count": 125,
   "metadata": {},
   "outputs": [
    {
     "name": "stdout",
     "output_type": "stream",
     "text": [
      "True target:  neutrophil\n"
     ]
    },
    {
     "data": {
      "image/png": "[encoded data removed]",
      "text/plain": [
       "<Figure size 576x432 with 4 Axes>"
      ]
     },
     "metadata": {
      "needs_background": "light"
     },
     "output_type": "display_data"
    }
   ],
   "source": [
    "image_index = random.randint(0, len(test_data))\n",
    "image = test_data[image_index]\n",
    "\n",
    "original_image = image\n",
    "image = (image - mean) / std\n",
    "image = image.view(1, 3, 32, 32)\n",
    "scores = CNN_model(image)\n",
    "\n",
    "assert torch.argmax(scores) == test_targets[image_index]\n",
    "\n",
    "print(\"True target: \", list(CELLTYPES.keys())[test_targets[image_index]])\n",
    "\n",
    "ig = captum.attr.IntegratedGradients(CNN_model)\n",
    "attribution = (ig.attribute(image, target=test_targets[image_index]))\n",
    "\n",
    "\n",
    "_ = captum.attr.visualization.visualize_image_attr_multiple(np.transpose(attribution.squeeze().numpy(), (1,2,0)), \n",
    "                                                   np.transpose(original_image.squeeze().numpy(), (1,2,0)).astype(np.uint8), \n",
    "                                                   methods=[\"original_image\", \"heat_map\"],\n",
    "                                                   signs=['all', 'positive'],\n",
    "                                                   show_colorbar =True)"
   ]
  }
 ],
 "metadata": {
  "kernelspec": {
   "display_name": "Python 3 (ipykernel)",
   "language": "python",
   "name": "python3"
  },
  "language_info": {
   "codemirror_mode": {
    "name": "ipython",
    "version": 3
   },
   "file_extension": ".py",
   "mimetype": "text/x-python",
   "name": "python",
   "nbconvert_exporter": "python",
   "pygments_lexer": "ipython3",
   "version": "3.11.4"
  }
 },
 "nbformat": 4,
 "nbformat_minor": 4
}
