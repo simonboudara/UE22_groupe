{
 "cells": [
  {
   "cell_type": "markdown",
   "id": "36174445-23eb-44d6-86a3-3983f09f601b",
   "metadata": {},
   "source": [
    "## Création dataframe "
   ]
  },
  {
   "cell_type": "code",
   "execution_count": 1,
   "id": "42d922e4-c69b-46c1-8f02-1b567c1a5c48",
   "metadata": {},
   "outputs": [
    {
     "ename": "NameError",
     "evalue": "name 'df_ba' is not defined",
     "output_type": "error",
     "traceback": [
      "\u001b[0;31m---------------------------------------------------------------------------\u001b[0m",
      "\u001b[0;31mNameError\u001b[0m                                 Traceback (most recent call last)",
      "Cell \u001b[0;32mIn[1], line 48\u001b[0m\n\u001b[1;32m     45\u001b[0m         \u001b[38;5;28;01mreturn\u001b[39;00m \u001b[38;5;28;01mNone\u001b[39;00m\n\u001b[1;32m     47\u001b[0m \u001b[38;5;66;03m# Créer une liste contenant vos DataFrames\u001b[39;00m\n\u001b[0;32m---> 48\u001b[0m liste_df \u001b[38;5;241m=\u001b[39m [df_ba, df_eos, df_ery, df_ig, df_lymph, df_mono, df_neutro, df_plat]\n\u001b[1;32m     50\u001b[0m \u001b[38;5;66;03m# Concaténer les DataFrames dans la liste\u001b[39;00m\n\u001b[1;32m     51\u001b[0m df \u001b[38;5;241m=\u001b[39m pd\u001b[38;5;241m.\u001b[39mconcat(liste_df)\n",
      "\u001b[0;31mNameError\u001b[0m: name 'df_ba' is not defined"
     ]
    }
   ],
   "source": [
    "import pandas as pd\n",
    "from PIL import Image\n",
    "import numpy as np\n",
    "from scipy import ndimage\n",
    "\n",
    "# Fonction pour compter les gros contours\n",
    "def compter_gros_contours(image_path, seuil=130, proportion=0.5, aire_min=100):\n",
    "    try:\n",
    "        # Ouvrir l'image et convertir en niveaux de gris\n",
    "        image = Image.open(image_path).convert('L')\n",
    "        \n",
    "        # Convertir l'image en tableau numpy\n",
    "        image_np = np.array(image)\n",
    "        \n",
    "        # Découper la partie centrale de l'image\n",
    "        h, w = image_np.shape\n",
    "        centre_h = int(h * proportion)\n",
    "        centre_w = int(w * proportion)\n",
    "        debut_h = (h - centre_h) // 2\n",
    "        debut_w = (w - centre_w) // 2\n",
    "        image_centre = image_np[debut_h:debut_h + centre_h, debut_w:debut_w + centre_w]\n",
    "        \n",
    "        # Appliquer le seuillage\n",
    "        image_seuillee = (image_centre > seuil).astype(np.uint8) * 255\n",
    "        \n",
    "        # Trouver les contours en utilisant les différences de gradients\n",
    "        sx = ndimage.sobel(image_seuillee, axis=0, mode='constant')\n",
    "        sy = ndimage.sobel(image_seuillee, axis=1, mode='constant')\n",
    "        sobel = np.hypot(sx, sy)\n",
    "        \n",
    "        # Binariser le résultat du filtre Sobel\n",
    "        contours = (sobel > 0).astype(np.uint8)\n",
    "        \n",
    "        # Étiqueter les objets (contours)\n",
    "        labeled_array, num_features = ndimage.label(contours)\n",
    "        \n",
    "        # Filtrer les contours par leur aire\n",
    "        areas = ndimage.sum(contours, labeled_array, range(1, num_features + 1))\n",
    "        gros_contours = areas > aire_min\n",
    "        nombre_gros_contours = np.sum(gros_contours)\n",
    "        \n",
    "        return nombre_gros_contours\n",
    "    except Exception as e:\n",
    "        print(f\"Une erreur s'est produite pour l'image {image_path} : {e}\")\n",
    "        return None\n",
    "\n",
    "# Créer une liste contenant vos DataFrames\n",
    "liste_df = [df_ba, df_eos, df_ery, df_ig, df_lymph, df_mono, df_neutro, df_plat]\n",
    "\n",
    "# Concaténer les DataFrames dans la liste\n",
    "df = pd.concat(liste_df)\n",
    "df = df.drop(columns=['Date création'])\n",
    "\n",
    "# Ajouter une nouvelle colonne avec le nombre de gros contours\n",
    "df['Gros contours'] = df['Nom fichier'].apply(lambda nom_fichier: compter_gros_contours(f\"/path/to/your/images/directory/{nom_fichier}\"))\n",
    "\n",
    "# Afficher la DataFrame\n",
    "print(df)"
   ]
  }
 ],
 "metadata": {
  "kernelspec": {
   "display_name": "Python 3 (ipykernel)",
   "language": "python",
   "name": "python3"
  },
  "language_info": {
   "codemirror_mode": {
    "name": "ipython",
    "version": 3
   },
   "file_extension": ".py",
   "mimetype": "text/x-python",
   "name": "python",
   "nbconvert_exporter": "python",
   "pygments_lexer": "ipython3",
   "version": "3.11.5"
  }
 },
 "nbformat": 4,
 "nbformat_minor": 5
}
