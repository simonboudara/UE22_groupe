{
 "cells": [
  {
   "cell_type": "code",
   "execution_count": 1,
   "id": "e190b3c4",
   "metadata": {},
   "outputs": [],
   "source": [
    "## Organisation des data \n",
    "import os\n",
    "from PIL import Image\n",
    "import numpy as np\n",
    "import re "
   ]
  },
  {
   "cell_type": "code",
   "execution_count": null,
   "id": "0ae61c8b",
   "metadata": {},
   "outputs": [],
   "source": [
    "chemin = r\"C:\\Users\\ronci\\Documents\\Ecole Mines\\Cours\\Info\\PBC_dataset_normal_DIB_224\\PBC_dataset_normal_DIB_224\"\n",
    "def load_images_and_labels(directory):\n",
    "    image_data = []\n",
    "    image_names = []\n",
    "    image_labels =[]   \n",
    "    for root, _, files in os.walk(directory):\n",
    "        for file in files:\n",
    "            if file.endswith(\".jpeg\") or file.endswith(\".jpg\"):\n",
    "                try:\n",
    "                    img_path = os.path.join(root, file)\n",
    "                    img = Image.open(img_path)\n",
    "                    if img.size == (224, 224):\n",
    "                        img_data = np.array(img)\n",
    "                        image_data.append(img_data)\n",
    "                        label = re.findall('[A-Z]+', file.split('_')[0])  # Récupère les lettres capitales avant '_'\n",
    "                        image_labels.append(label[0])\n",
    "                        image_names.append(file)\n",
    "                    else : \n",
    "                        print(\"L'image n'est pas à la bonne dimension. Supression de \", file)\n",
    "                except Exception as e:\n",
    "                    print(f\"Erreur lors du chargement de l'image {file}: {e}\")\n",
    "    image_data = np.array(image_data)   \n",
    "    return image_data, image_names, image_labels"
   ]
  },
  {
   "cell_type": "code",
   "execution_count": null,
   "id": "a88b87fd",
   "metadata": {},
   "outputs": [],
   "source": [
    "images, image_names, image_labels = load_images_and_labels(chemin)"
   ]
  },
  {
   "cell_type": "markdown",
   "id": "ed779ce1",
   "metadata": {},
   "source": [
    "# Réseau de neurones"
   ]
  },
  {
   "cell_type": "code",
   "execution_count": null,
   "id": "767344f9",
   "metadata": {},
   "outputs": [],
   "source": [
    "# Création des jeux de données\n",
    "from sklearn.model_selection import train_test_split"
   ]
  },
  {
   "cell_type": "code",
   "execution_count": null,
   "id": "4d274f77",
   "metadata": {},
   "outputs": [],
   "source": [
    "X_train, X_test, y_train, y_test = train_test_split(images, image_labels, test_size=0.2, random_state=42)\n",
    "print(X_train.shape)\n",
    "# Faire une division par 255 pour avoir des valeurs entre 0 et 1\n",
    "# Création de la structure du CNN "
   ]
  },
  {
   "cell_type": "code",
   "execution_count": null,
   "id": "0c054b5b",
   "metadata": {},
   "outputs": [],
   "source": [
    "import tensorflow as ts \n",
    "from tensorflow.keras import layers, models "
   ]
  },
  {
   "cell_type": "code",
   "execution_count": null,
   "id": "e691ffee",
   "metadata": {},
   "outputs": [],
   "source": [
    "model = models.Sequential([\n",
    "    layers.Conv2D(32, (3, 3), activation='relu', input_shape=(224, 224, 3)),\n",
    "    layers.MaxPooling2D((2, 2)),\n",
    "    layers.Conv2D(64, (3, 3), activation='relu'),\n",
    "    layers.MaxPooling2D((2, 2)),\n",
    "    layers.Conv2D(64, (3, 3), activation='relu'),\n",
    "    layers.Flatten(),\n",
    "    layers.Dense(128, activation='relu'),\n",
    "    layers.Dense(64, activation='relu'),\n",
    "    layers.Dense(13, activation='softmax')\n",
    "])"
   ]
  },
  {
   "cell_type": "code",
   "execution_count": null,
   "id": "bd602bfc",
   "metadata": {},
   "outputs": [],
   "source": [
    "model.compile(optimizer='adam',loss= 'categorical_crossentropy', metrics=['accuracy'])"
   ]
  },
  {
   "cell_type": "code",
   "execution_count": null,
   "id": "edf5e84e",
   "metadata": {},
   "outputs": [],
   "source": [
    "model.fit(X_train, y_train, epochs=5, validation_data=(X_test, y_test))"
   ]
  },
  {
   "cell_type": "code",
   "execution_count": null,
   "id": "b7b54908",
   "metadata": {},
   "outputs": [],
   "source": [
    "test_loss , test_acc = model.evaluate(X_test, y_test)\n",
    "print(\"Accuracy\", test_acc)"
   ]
  }
 ],
 "metadata": {
  "jupytext": {
   "cell_metadata_filter": "-all",
   "main_language": "python",
   "notebook_metadata_filter": "-all"
  },
  "kernelspec": {
   "display_name": "Python 3 (ipykernel)",
   "language": "python",
   "name": "python3"
  },
  "language_info": {
   "codemirror_mode": {
    "name": "ipython",
    "version": 3
   },
   "file_extension": ".py",
   "mimetype": "text/x-python",
   "name": "python",
   "nbconvert_exporter": "python",
   "pygments_lexer": "ipython3",
   "version": "3.11.4"
  }
 },
 "nbformat": 4,
 "nbformat_minor": 5
}
