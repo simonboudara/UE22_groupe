{
 "cells": [
  {
   "cell_type": "code",
   "execution_count": null,
   "id": "137d98f0-44b4-4d8e-b3e8-b9771968a96d",
   "metadata": {},
   "outputs": [],
   "source": [
    "import os\n",
    "import pandas as pd\n",
    "from PIL import Image\n",
    "\n",
    "def create_csv_from_image_folder(input_folder, output_csv):\n",
    "    \"\"\"\n",
    "    Crée un fichier CSV à partir d'un dossier contenant des images en utilisant Pandas.\n",
    "    \"\"\"\n",
    "    image_files = [os.path.join(input_folder, file) for file in os.listdir(input_folder) if file.endswith(('.jpg', '.jpeg', '.png', '.gif'))]\n",
    "\n",
    "    new_size=(360,363)\n",
    "    for image_path in image_files :\n",
    "        image = Image.open(image_path)\n",
    "        if image.size != new_size :\n",
    "            image_files.remove(image_path)\n",
    "\n",
    "    df = pd.DataFrame({'image_path': image_files})\n",
    "    df.to_csv(output_csv, index=False)\n",
    "\n",
    "# Exemple d'utilisation\n",
    "input_folder = r\"C:\\Users\\simonboudara\\PBC_dataset_normal_DIB\\PBC_dataset_normal_DIB\\Globule blanc\\neutrophil\"  # Chemin du dossier contenant les images\n",
    "output_csv = r\"C:\\Users\\simonboudara\\PBC_dataset_normal_DIB_csv\\Globule blanc CSV\\neutrophil.csv\"  # Nom du fichier CSV de sortie\n",
    "create_csv_from_image_folder(input_folder, output_csv)"
   ]
  },
  {
   "cell_type": "code",
   "execution_count": null,
   "id": "793fbd86-a537-4cfe-a0ea-ed1a797d1523",
   "metadata": {},
   "outputs": [],
   "source": []
  }
 ],
 "metadata": {
  "kernelspec": {
   "display_name": "Python 3 (ipykernel)",
   "language": "python",
   "name": "python3"
  },
  "language_info": {
   "codemirror_mode": {
    "name": "ipython",
    "version": 3
   },
   "file_extension": ".py",
   "mimetype": "text/x-python",
   "name": "python",
   "nbconvert_exporter": "python",
   "pygments_lexer": "ipython3",
   "version": "3.11.4"
  }
 },
 "nbformat": 4,
 "nbformat_minor": 5
}
